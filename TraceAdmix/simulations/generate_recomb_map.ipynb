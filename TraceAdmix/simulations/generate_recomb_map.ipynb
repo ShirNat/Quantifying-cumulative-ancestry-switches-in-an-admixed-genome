{
 "cells": [
  {
   "cell_type": "markdown",
   "id": "bdd952ea",
   "metadata": {},
   "source": [
    "## Creating a simple recombination map\n",
    "This script allows us to generate a recombination map to be used for simulations.\n",
    "\n",
    "#### Configure:\n",
    "1. Set the parameters\n",
    "2. Set the output path for the recombination map"
   ]
  },
  {
   "cell_type": "code",
   "execution_count": 1,
   "id": "4f731b23",
   "metadata": {},
   "outputs": [],
   "source": [
    "import os\n",
    "import random\n",
    "import numpy as np"
   ]
  },
  {
   "cell_type": "code",
   "execution_count": 2,
   "id": "412eb127",
   "metadata": {},
   "outputs": [],
   "source": [
    "L         = int(25e7)      # chromosome length\n",
    "n_regions = 1000           # number of breakpoints\n",
    "min_rate  = 1e-9           # minimum recomb rate\n",
    "max_rate  = 1e-7           # maximum recomb rate\n",
    "seed      = 42             # seed for reproducibility"
   ]
  },
  {
   "cell_type": "code",
   "execution_count": 3,
   "id": "46260f4a",
   "metadata": {},
   "outputs": [],
   "source": [
    "random.seed(seed)\n",
    "rng = np.random.default_rng(seed)\n",
    "\n",
    "cuts = random.sample(range(1, L), n_regions - 1)\n",
    "breakpoints = np.array([0] + sorted(cuts) + [L-1], dtype=int)\n",
    "rates = rng.uniform(min_rate, max_rate, size=n_regions)"
   ]
  },
  {
   "cell_type": "code",
   "execution_count": 5,
   "id": "e1469bbe",
   "metadata": {},
   "outputs": [
    {
     "name": "stdout",
     "output_type": "stream",
     "text": [
      "Wrote recombination map to simple_recomb_map.txt\n"
     ]
    }
   ],
   "source": [
    "map_path = \"simple_recomb_map.txt\"\n",
    "\n",
    "with open(map_path, \"w\") as f:\n",
    "    for start, rate in zip(breakpoints[:-1], rates):\n",
    "        f.write(f\"{start}\\t{rate:.2e}\\n\")\n",
    "\n",
    "print(f\"Wrote recombination map to {map_path}\")"
   ]
  },
  {
   "cell_type": "code",
   "execution_count": null,
   "id": "025449b3",
   "metadata": {},
   "outputs": [],
   "source": []
  }
 ],
 "metadata": {
  "kernelspec": {
   "display_name": "popgen",
   "language": "python",
   "name": "python3"
  },
  "language_info": {
   "codemirror_mode": {
    "name": "ipython",
    "version": 3
   },
   "file_extension": ".py",
   "mimetype": "text/x-python",
   "name": "python",
   "nbconvert_exporter": "python",
   "pygments_lexer": "ipython3",
   "version": "3.12.0"
  }
 },
 "nbformat": 4,
 "nbformat_minor": 5
}
