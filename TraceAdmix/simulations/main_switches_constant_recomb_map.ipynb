{
 "cells": [
  {
   "cell_type": "code",
   "execution_count": 7,
   "id": "6cd064d5",
   "metadata": {},
   "outputs": [],
   "source": [
    "import os\n",
    "import pandas as pd\n",
    "import seaborn as sns\n",
    "import matplotlib.pyplot as plt"
   ]
  },
  {
   "cell_type": "code",
   "execution_count": 8,
   "id": "cfadc5e0",
   "metadata": {},
   "outputs": [],
   "source": [
    "N_e = 10000\n",
    "modes = [\"constant\", \"recomb_map\"]\n",
    "panel_labels = [\"A\", \"B\"]\n",
    "\n",
    "LABEL_FONTSIZE = 24\n",
    "TICK_FONTSIZE  = 16\n",
    "LEGEND_FONTSIZE = 14\n",
    "\n",
    "sns.set_theme(style=\"white\", palette=\"colorblind\")\n",
    "palette = sns.color_palette(\"colorblind\")"
   ]
  },
  {
   "cell_type": "code",
   "execution_count": 9,
   "id": "f0b9af14",
   "metadata": {},
   "outputs": [],
   "source": [
    "def load_observed(N_e, mode):\n",
    "    if mode == \"constant\":\n",
    "        obs_path = f\"obs_switches/constant_recomb/summary_obs_switches_n_{N_e}.csv\"\n",
    "    elif mode == \"recomb_map\":\n",
    "        obs_path = f\"obs_switches/recomb_map/summary_obs_switches_n_{N_e}.csv\"\n",
    "    else:\n",
    "        raise ValueError(\"mode must be 'constant' or 'recomb_map'\")\n",
    "\n",
    "    if not os.path.exists(obs_path):\n",
    "        raise FileNotFoundError(f\"No observed summary file found: {obs_path}\")\n",
    "    return pd.read_csv(obs_path)"
   ]
  },
  {
   "cell_type": "code",
   "execution_count": 10,
   "id": "a97036bd",
   "metadata": {},
   "outputs": [],
   "source": [
    "def load_expected(N_e, mode):\n",
    "    if mode == \"constant\":\n",
    "        exp_path = f\"exp_switches/constant_recomb/expected_switches_{N_e}.csv\"\n",
    "    elif mode == \"recomb_map\":\n",
    "        exp_path = f\"exp_switches/recomb_map/expected_switches_{N_e}.csv\"\n",
    "    else:\n",
    "        raise ValueError(\"mode must be 'constant' or 'recomb_map'\")\n",
    "\n",
    "    if not os.path.exists(exp_path):\n",
    "        raise FileNotFoundError(f\"No expected file found: {exp_path}\")\n",
    "    return pd.read_csv(exp_path)"
   ]
  },
  {
   "cell_type": "code",
   "execution_count": null,
   "id": "a737ac68",
   "metadata": {},
   "outputs": [
    {
     "data": {
      "text/plain": [
       "[<matplotlib.axis.YTick at 0x16a18bad0>,\n",
       " <matplotlib.axis.YTick at 0x16818a420>,\n",
       " <matplotlib.axis.YTick at 0x16a188500>,\n",
       " <matplotlib.axis.YTick at 0x16a22a270>,\n",
       " <matplotlib.axis.YTick at 0x16a22ab10>]"
      ]
     },
     "execution_count": 13,
     "metadata": {},
     "output_type": "execute_result"
    }
   ],
   "source": [
    "fig, axes = plt.subplots(1, 2, figsize=(14, 6), sharey=False)\n",
    "\n",
    "for ax, mode, panel in zip(axes, modes, panel_labels):\n",
    "    # Load data\n",
    "    df_obs = load_observed(N_e, mode)\n",
    "    df_exp = load_expected(N_e, mode)\n",
    "\n",
    "    # Plot observed mean + CI\n",
    "    ax.plot(df_obs[\"generation\"], df_obs[\"obs_mean\"],\n",
    "            marker=\"o\", linewidth=3, label=\"Simulated\", color=palette[0])\n",
    "    ax.fill_between(df_obs[\"generation\"], df_obs[\"obs_ci_lower\"], df_obs[\"obs_ci_upper\"],\n",
    "                    alpha=0.3, label=\"Simulated 95% CI\", color=palette[0])\n",
    "\n",
    "    # Plot expected\n",
    "    ax.plot(df_exp[\"generation\"], df_exp[\"expected_switches\"],\n",
    "            linestyle=\"--\", linewidth=3, label=\"Theoretical\", color=palette[1])\n",
    "\n",
    "    # Tick/axis formatting\n",
    "    ax.tick_params(axis=\"both\", which=\"major\",\n",
    "                   direction=\"out\", length=6, width=1.5,\n",
    "                   bottom=True, left=True, labelsize=TICK_FONTSIZE)\n",
    "    for spine in [\"left\", \"bottom\"]:\n",
    "        ax.spines[spine].set_visible(True)\n",
    "        ax.spines[spine].set_linewidth(1.2)\n",
    "\n",
    "    ax.legend(fontsize=LEGEND_FONTSIZE)\n",
    "\n",
    "    # Panel letter\n",
    "    ax.text(-0.1, 1.05, panel, transform=ax.transAxes,\n",
    "            fontsize=LABEL_FONTSIZE, fontweight=\"bold\", va=\"top\", ha=\"right\")\n",
    "\n",
    "    # Mode label\n",
    "    label_txt = \"Constant recombination\" if mode == \"constant\" else \"Recombination map\"\n",
    "    ax.text(0.95, 0.05, label_txt, transform=ax.transAxes,\n",
    "            fontsize=LABEL_FONTSIZE-2, ha=\"right\", va=\"bottom\", fontstyle=\"italic\")\n",
    "\n",
    "axes[0].set_ylim(0, 12)\n",
    "axes[1].set_ylim(0, 40)\n",
    "\n",
    "# Generate proportional ticks so the grid lines match visually\n",
    "left_ticks = np.linspace(0, 12, 3)           \n",
    "right_ticks = np.linspace(0, 40, 5)          \n",
    "\n",
    "axes[0].set_yticks(left_ticks)\n",
    "axes[1].set_yticks(right_ticks)\n",
    "\n",
    "# Optional rounding for neat labels\n",
    "axes[0].set_yticklabels([f\"{t:.0f}\" if t.is_integer() else f\"{t:.1f}\" for t in left_ticks])\n",
    "axes[1].set_yticklabels([f\"{int(t)}\" for t in right_ticks])"
   ]
  },
  {
   "cell_type": "code",
   "execution_count": null,
   "id": "887590b0",
   "metadata": {},
   "outputs": [],
   "source": []
  }
 ],
 "metadata": {
  "kernelspec": {
   "display_name": "popgen",
   "language": "python",
   "name": "python3"
  },
  "language_info": {
   "codemirror_mode": {
    "name": "ipython",
    "version": 3
   },
   "file_extension": ".py",
   "mimetype": "text/x-python",
   "name": "python",
   "nbconvert_exporter": "python",
   "pygments_lexer": "ipython3",
   "version": "3.12.0"
  }
 },
 "nbformat": 4,
 "nbformat_minor": 5
}
