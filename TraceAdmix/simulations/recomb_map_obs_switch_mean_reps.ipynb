{
 "cells": [
  {
   "cell_type": "code",
   "execution_count": 14,
   "id": "a35a79ff",
   "metadata": {},
   "outputs": [],
   "source": [
    "import os\n",
    "import glob\n",
    "import numpy as np\n",
    "import pandas as pd"
   ]
  },
  {
   "cell_type": "code",
   "execution_count": 15,
   "id": "ec7315a0",
   "metadata": {},
   "outputs": [],
   "source": [
    "N_e = 100\n",
    "Z_CRIT = 1.96  # for ~95% CI"
   ]
  },
  {
   "cell_type": "code",
   "execution_count": 16,
   "id": "0fe96019",
   "metadata": {},
   "outputs": [],
   "source": [
    "# Path to observed switch output files\n",
    "obs_switch_dir = f\"obs_switches/recomb_map/n_{N_e}\"\n",
    "file_glob  = os.path.join(obs_switch_dir, \"observed_switches_rep_*.csv\")\n",
    "\n",
    "files = glob.glob(file_glob)\n",
    "if len(files) == 0:\n",
    "    raise FileNotFoundError(f\"No files matched: {file_glob}\")"
   ]
  },
  {
   "cell_type": "code",
   "execution_count": 17,
   "id": "a15fb312",
   "metadata": {},
   "outputs": [],
   "source": [
    "dfs = []\n",
    "for f in files:\n",
    "    df_i = pd.read_csv(f)\n",
    "    df_i[\"generation\"] = pd.to_numeric(df_i[\"generation\"], errors=\"coerce\")\n",
    "    df_i[\"observed_switches\"] = pd.to_numeric(df_i[\"observed_switches\"], errors=\"coerce\")\n",
    "    dfs.append(df_i)\n",
    "\n",
    "all_data = pd.concat(dfs, ignore_index=True).dropna(subset=[\"generation\", \"observed_switches\"])\n",
    "\n",
    "# Shift generations so they start at 0 to match exp_switches (1->0, 2->1, ...)\n",
    "all_data[\"generation\"] = all_data[\"generation\"].astype(int) - 1\n",
    "all_data = all_data[all_data[\"generation\"] >= 0]\n",
    "\n",
    "# Aggregate across reps\n",
    "N = max(1, len(files))\n",
    "agg = (\n",
    "    all_data\n",
    "    .groupby(\"generation\", as_index=True)[\"observed_switches\"]\n",
    "    .agg(obs_mean=\"mean\", obs_std=\"std\", obs_var=\"var\")\n",
    "    .sort_index()\n",
    ")\n",
    "# SEM + CI\n",
    "agg[\"obs_sem\"] = agg[\"obs_std\"].fillna(0.0) / np.sqrt(N)\n",
    "agg[\"obs_ci_lower\"] = agg[\"obs_mean\"] - Z_CRIT * agg[\"obs_sem\"]\n",
    "agg[\"obs_ci_upper\"] = agg[\"obs_mean\"] + Z_CRIT * agg[\"obs_sem\"]\n",
    "\n",
    "df_obs = agg.reset_index().sort_values(\"generation\")"
   ]
  },
  {
   "cell_type": "code",
   "execution_count": 18,
   "id": "eb8bc23c",
   "metadata": {},
   "outputs": [
    {
     "name": "stdout",
     "output_type": "stream",
     "text": [
      "Summary written to obs_switches/recomb_map/summary_obs_switches_n_100.csv\n"
     ]
    }
   ],
   "source": [
    "# Path to output directory\n",
    "summary_dir = \"obs_switches/recomb_map\"\n",
    "os.makedirs(summary_dir, exist_ok=True)\n",
    "\n",
    "summary_path = os.path.join(summary_dir, f\"summary_obs_switches_n_{N_e}.csv\")\n",
    "df_obs.to_csv(summary_path, index=False)\n",
    "\n",
    "print(f\"Summary written to {summary_path}\")"
   ]
  },
  {
   "cell_type": "code",
   "execution_count": null,
   "id": "8ce7c7b7",
   "metadata": {},
   "outputs": [],
   "source": []
  }
 ],
 "metadata": {
  "kernelspec": {
   "display_name": "popgen",
   "language": "python",
   "name": "python3"
  },
  "language_info": {
   "codemirror_mode": {
    "name": "ipython",
    "version": 3
   },
   "file_extension": ".py",
   "mimetype": "text/x-python",
   "name": "python",
   "nbconvert_exporter": "python",
   "pygments_lexer": "ipython3",
   "version": "3.12.0"
  }
 },
 "nbformat": 4,
 "nbformat_minor": 5
}
