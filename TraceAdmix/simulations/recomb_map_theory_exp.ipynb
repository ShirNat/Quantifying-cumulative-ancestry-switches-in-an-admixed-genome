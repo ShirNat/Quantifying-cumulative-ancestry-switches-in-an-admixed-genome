{
 "cells": [
  {
   "cell_type": "markdown",
   "id": "9ab062e5",
   "metadata": {},
   "source": [
    "## Theoretical expectation for ancestry switch count\n",
    "This script uses Equation (3) to output the theoretical expectation of switch count across generations. You can run this for the constant recombintaion case.\n",
    "\n",
    "Configure:\n",
    "1. Set the parameters\n",
    "2. Set the output path for the exp switch file\n",
    "\n",
    "Theory:\n",
    "**Parameters**\\\n",
    "$ |L| = $ total length of segment $L$ <br>\n",
    "$ r_{a1} = $ recombination rate of ancestry 1 $(a1)$ <br>\n",
    "$ r_{a2} = $ recombination rate of ancestry 2 $(a2)$ <br>\n",
    "$ p_{a1,0} = $ proportion of ancestry 1 $(a1)$ in initial generation $(g = 0)$ <br>\n",
    "$ p_{a2,0} = 1 - p_{a1,0} $ <br>\n",
    "$ N_e = $ population size <br>\n",
    "$ G $ = total number of generations $(g\t\\in {1,...,G})$ <br>\n",
    "\n",
    "**Equation**\\\n",
    "$ |L| (r_{a1} + r_{a2}) \\cdot p_{a1,0} (1 - p_{a1,0}) \\cdot 2N_e (1 - (1 - (\\frac{1}{2N_e}))^G) $"
   ]
  },
  {
   "cell_type": "code",
   "execution_count": 2,
   "id": "975e22f6",
   "metadata": {},
   "outputs": [],
   "source": [
    "import pandas as pd"
   ]
  },
  {
   "cell_type": "code",
   "execution_count": null,
   "id": "c6df5dbe",
   "metadata": {},
   "outputs": [],
   "source": [
    "# Parameters\n",
    "L = float(25e7)      # chromosome length\n",
    "N_e = int(10000)      # population size\n",
    "p_a1_0 = float(0.5)     # ancestry proportion\n",
    "r = float(1e-8)     # recomb\n",
    "g_values = range(0, 11)     # generations\n",
    "\n",
    "exp_switches_list = []\n",
    "\n",
    "for G in g_values:\n",
    "    decay_term = 1 - (1 - (1 / (2 * N_e))) ** G\n",
    "    exp = L * (r + r) * p_a1_0 * (1 - p_a1_0) * 2 * N_e * decay_term\n",
    "    exp_switches_list.append(exp)"
   ]
  },
  {
   "cell_type": "code",
   "execution_count": 4,
   "id": "3dfcc9b6",
   "metadata": {},
   "outputs": [],
   "source": [
    "df_theory = pd.DataFrame({\n",
    "    \"generation\": list(g_values),\n",
    "    \"expected_switches\": exp_switches_list\n",
    "})"
   ]
  },
  {
   "cell_type": "code",
   "execution_count": 5,
   "id": "9c4e8ed5",
   "metadata": {},
   "outputs": [
    {
     "data": {
      "text/html": [
       "<div>\n",
       "<style scoped>\n",
       "    .dataframe tbody tr th:only-of-type {\n",
       "        vertical-align: middle;\n",
       "    }\n",
       "\n",
       "    .dataframe tbody tr th {\n",
       "        vertical-align: top;\n",
       "    }\n",
       "\n",
       "    .dataframe thead th {\n",
       "        text-align: right;\n",
       "    }\n",
       "</style>\n",
       "<table border=\"1\" class=\"dataframe\">\n",
       "  <thead>\n",
       "    <tr style=\"text-align: right;\">\n",
       "      <th></th>\n",
       "      <th>generation</th>\n",
       "      <th>expected_switches</th>\n",
       "    </tr>\n",
       "  </thead>\n",
       "  <tbody>\n",
       "    <tr>\n",
       "      <th>0</th>\n",
       "      <td>0</td>\n",
       "      <td>0.000000</td>\n",
       "    </tr>\n",
       "    <tr>\n",
       "      <th>1</th>\n",
       "      <td>1</td>\n",
       "      <td>1.250000</td>\n",
       "    </tr>\n",
       "    <tr>\n",
       "      <th>2</th>\n",
       "      <td>2</td>\n",
       "      <td>2.499938</td>\n",
       "    </tr>\n",
       "    <tr>\n",
       "      <th>3</th>\n",
       "      <td>3</td>\n",
       "      <td>3.749813</td>\n",
       "    </tr>\n",
       "    <tr>\n",
       "      <th>4</th>\n",
       "      <td>4</td>\n",
       "      <td>4.999625</td>\n",
       "    </tr>\n",
       "    <tr>\n",
       "      <th>5</th>\n",
       "      <td>5</td>\n",
       "      <td>6.249375</td>\n",
       "    </tr>\n",
       "    <tr>\n",
       "      <th>6</th>\n",
       "      <td>6</td>\n",
       "      <td>7.499063</td>\n",
       "    </tr>\n",
       "    <tr>\n",
       "      <th>7</th>\n",
       "      <td>7</td>\n",
       "      <td>8.748688</td>\n",
       "    </tr>\n",
       "    <tr>\n",
       "      <th>8</th>\n",
       "      <td>8</td>\n",
       "      <td>9.998250</td>\n",
       "    </tr>\n",
       "    <tr>\n",
       "      <th>9</th>\n",
       "      <td>9</td>\n",
       "      <td>11.247750</td>\n",
       "    </tr>\n",
       "    <tr>\n",
       "      <th>10</th>\n",
       "      <td>10</td>\n",
       "      <td>12.497188</td>\n",
       "    </tr>\n",
       "  </tbody>\n",
       "</table>\n",
       "</div>"
      ],
      "text/plain": [
       "    generation  expected_switches\n",
       "0            0           0.000000\n",
       "1            1           1.250000\n",
       "2            2           2.499938\n",
       "3            3           3.749813\n",
       "4            4           4.999625\n",
       "5            5           6.249375\n",
       "6            6           7.499063\n",
       "7            7           8.748688\n",
       "8            8           9.998250\n",
       "9            9          11.247750\n",
       "10          10          12.497188"
      ]
     },
     "execution_count": 5,
     "metadata": {},
     "output_type": "execute_result"
    }
   ],
   "source": [
    "df_theory"
   ]
  },
  {
   "cell_type": "code",
   "execution_count": null,
   "id": "a44d68cf",
   "metadata": {},
   "outputs": [
    {
     "name": "stdout",
     "output_type": "stream",
     "text": [
      "Wrote 11 rows to expected_switches_10k.csv\n"
     ]
    }
   ],
   "source": [
    "# Save as csv\n",
    "csv_path = f\"exp_switches/constant_recomb/expected_switches_n_{N_e}.csv\"\n",
    "df_theory.to_csv(csv_path, index=False)\n",
    "print(f\"Wrote {len(df_theory)} rows to {csv_path}\")"
   ]
  }
 ],
 "metadata": {
  "kernelspec": {
   "display_name": "popgen",
   "language": "python",
   "name": "python3"
  },
  "language_info": {
   "codemirror_mode": {
    "name": "ipython",
    "version": 3
   },
   "file_extension": ".py",
   "mimetype": "text/x-python",
   "name": "python",
   "nbconvert_exporter": "python",
   "pygments_lexer": "ipython3",
   "version": "3.12.0"
  }
 },
 "nbformat": 4,
 "nbformat_minor": 5
}
